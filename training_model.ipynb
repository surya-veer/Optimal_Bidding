{
 "cells": [
  {
   "cell_type": "code",
   "execution_count": 141,
   "metadata": {
    "collapsed": false
   },
   "outputs": [],
   "source": [
    "import numpy as np\n",
    "import pandas as pd\n",
    "import matplotlib.pyplot as plt\n",
    "from matplotlib import style\n",
    "style.use('ggplot')\n",
    "from sklearn import cross_validation, preprocessing, svm\n",
    "from sklearn.linear_model import LinearRegression\n",
    "from sklearn.ensemble import RandomForestClassifier\n",
    "from sklearn.metrics import accuracy_score"
   ]
  },
  {
   "cell_type": "code",
   "execution_count": 142,
   "metadata": {
    "collapsed": true
   },
   "outputs": [],
   "source": [
    "def data_frame(string):\n",
    "    df = pd.read_csv(string,names=[i for i in range(1,25)])\n",
    "    lis = [i for i in range(len(df)+1)]\n",
    "    df[0] =  pd.DataFrame({'col':lis})\n",
    "    df.set_index(0)\n",
    "    # print(df[2][4])\n",
    "    #(df.head())\n",
    "    l = []\n",
    "    for i in range(len(df)):\n",
    "        for x in range(1,25):\n",
    "            l.append(df[x][i])\n",
    "    df_new = pd.DataFrame()\n",
    "    df_new['d_train'] = pd.DataFrame({'d_train':l})\n",
    "    #print(df_new['d_train'].head())\n",
    "    return df_new['d_train']"
   ]
  },
  {
   "cell_type": "code",
   "execution_count": 143,
   "metadata": {
    "collapsed": false
   },
   "outputs": [],
   "source": [
    "def previous_low(string):\n",
    "    df = pd.read_csv(string,names=[i for i in range(24)])\n",
    "    l = []\n",
    "    #print(df)\n",
    "    low = df.iloc[0,:].min()\n",
    "    for j in range(24):\n",
    "        l.append(low)\n",
    "    for i in range(0,899):\n",
    "        low = df.iloc[i,:].min()\n",
    "        for j in range(24):\n",
    "            l.append(low)\n",
    "    \n",
    "    df_new = pd.DataFrame({'previous_low':l})\n",
    "    return df_new\n",
    "def previous_high(string):\n",
    "    df = pd.read_csv(string,names=[i for i in range(24)])\n",
    "    l = []\n",
    "    #print(df)\n",
    "    low = df.iloc[0,:].max()\n",
    "    for j in range(24):\n",
    "        l.append(low)\n",
    "    for i in range(0,899):\n",
    "        low = df.iloc[i,:].max()\n",
    "        for j in range(24):\n",
    "            l.append(low)\n",
    "    \n",
    "    df_new = pd.DataFrame({'previous_high':l})\n",
    "    return df_new\n",
    "    \n",
    "def previous_avg(string):\n",
    "    df = pd.read_csv(string,names=[i for i in range(24)])\n",
    "    l = []\n",
    "    #print(df)\n",
    "    low = df.iloc[0,:].mean()\n",
    "    for j in range(24):\n",
    "        l.append(low)\n",
    "    for i in range(0,899):\n",
    "        low = df.iloc[i,:].mean()\n",
    "        for j in range(24):\n",
    "            l.append(low)\n",
    "    \n",
    "    df_new = pd.DataFrame({'previous_avg':l})\n",
    "    return df_new\n",
    "\n",
    "def today_low(string):\n",
    "    df = pd.read_csv(string,names=[i for i in range(24)])\n",
    "    l = []\n",
    "    #print(df)\n",
    "    for i in range(900):\n",
    "        low = df.iloc[i,:].min()\n",
    "        for j in range(24):\n",
    "            l.append(low)\n",
    "    df_new = pd.DataFrame({'today_low':l})\n",
    "    return df_new\n",
    "    \n",
    "    \n",
    "def today_high(string):\n",
    "    df = pd.read_csv(string,names=[i for i in range(24)])\n",
    "    l = []\n",
    "    #print(df)\n",
    "    for i in range(900):\n",
    "        low = df.iloc[i,:].max()\n",
    "        for j in range(24):\n",
    "            l.append(low)\n",
    "    df_new = pd.DataFrame({'today_high':l})\n",
    "    return df_new\n",
    "    \n",
    "def today_avg(string):\n",
    "    df = pd.read_csv(string,names=[i for i in range(24)])\n",
    "    l = []\n",
    "    #print(df)\n",
    "    for i in range(900):\n",
    "        low = df.iloc[i,:].mean()\n",
    "        for j in range(24):\n",
    "            l.append(low)\n",
    "    df_new = pd.DataFrame({'today_avg':l})\n",
    "    return df_new\n",
    "\n",
    "def getAll(string):\n",
    "    l = []\n",
    "    l.append(today_low(string))\n",
    "    l.append(today_high(string))\n",
    "    l.append(today_avg(string))\n",
    "    return l\n",
    "    \n",
    "    "
   ]
  },
  {
   "cell_type": "code",
   "execution_count": 144,
   "metadata": {
    "collapsed": false
   },
   "outputs": [],
   "source": [
    "df_x = pd.DataFrame()\n",
    "df_y = pd.DataFrame()\n",
    "\n",
    "df_y['d_train'] = data_frame('Demand_Train.csv')\n",
    "df_x['d_pred'] = data_frame('Demand_Train_pred.csv')\n",
    "#df_x['today_low'],df_x['today_high'],df_x['today_avg'] = getAll('Demand_Train_pred.csv')\n",
    "\n",
    "df_y['p_train'] = data_frame('Price_Train.csv')\n",
    "df_x['p_pred'] = data_frame('Price_Train_pred.csv')\n",
    "\n",
    "df_y['s_train'] = data_frame('Solar_Train.csv')\n",
    "df_x['s_pred'] = data_frame('Solar_Train_pred.csv')\n",
    "\n",
    "\n",
    "\n"
   ]
  },
  {
   "cell_type": "code",
   "execution_count": 145,
   "metadata": {
    "collapsed": true
   },
   "outputs": [],
   "source": [
    "df_x.fillna('bfill',inplace=True)\n",
    "df_y.fillna('bfill',inplace=True)"
   ]
  },
  {
   "cell_type": "code",
   "execution_count": 146,
   "metadata": {
    "collapsed": false
   },
   "outputs": [],
   "source": [
    "#print(df_x.tail(),df_y.tail())"
   ]
  },
  {
   "cell_type": "code",
   "execution_count": 147,
   "metadata": {
    "collapsed": true
   },
   "outputs": [],
   "source": [
    "# print(df_x.head())\n",
    "# # fig = plt.figure()\n",
    "# # ax1 = plt.subplot2grid((1,1),(0,0))\n",
    "# # ax2 = plt.subplot2grid((1,1),(1,1))\n",
    "# x = (df_x['d_train']-df_x['s_train']) - (df_y['d_pred']-df_y['s_pred'])\n",
    "# x.plot()\n",
    "# # df_new['d_train'].plot(ax = ax2,label='Time')\n",
    "\n",
    "# plt.legend()\n",
    "# plt.show()"
   ]
  },
  {
   "cell_type": "code",
   "execution_count": 148,
   "metadata": {
    "collapsed": false
   },
   "outputs": [
    {
     "data": {
      "text/plain": [
       "LinearRegression(copy_X=True, fit_intercept=True, n_jobs=1, normalize=False)"
      ]
     },
     "execution_count": 148,
     "metadata": {},
     "output_type": "execute_result"
    }
   ],
   "source": [
    "X = np.array(df_x).astype('float')\n",
    "X = preprocessing.scale(X)\n",
    "y = np.array(df_y).astype('float')\n",
    "# from sklearn.utils import resample\n",
    "# X, y = resample(X, y, random_state=0)\n",
    "# print(X[:5],y[:5])\n",
    "X_train, X_test, y_train, y_test = cross_validation.train_test_split(X,y,test_size=0.0)\n",
    "clf_d = LinearRegression()\n",
    "# clf = RandomForestClassifier()\n",
    "# clf_d = svm.SVR(kernel = 'linear') \n",
    "clf_d.fit(X_train,y_train)\n",
    "#clf_d.score(X_train,y_train)"
   ]
  },
  {
   "cell_type": "code",
   "execution_count": 149,
   "metadata": {
    "collapsed": true
   },
   "outputs": [],
   "source": [
    "df_test = pd.DataFrame()\n",
    "df_test['d'] = data_frame('Demand_Test_pred.csv')\n",
    "df_test['p'] = data_frame('Price_Test_pred.csv')\n",
    "df_test['s'] = data_frame('Solar_Test_pred.csv')\n",
    "#df_test['today_low'],df_test['today_high'],df_test['today_avg'] = getAll('Demand_Train_pred.csv')"
   ]
  },
  {
   "cell_type": "code",
   "execution_count": 150,
   "metadata": {
    "collapsed": false
   },
   "outputs": [],
   "source": [
    "df_out = pd.DataFrame()\n",
    "df_out = clf_d.predict(preprocessing.scale(df_test))\n",
    "# t_out = pd.DataFrame()\n",
    "# t_out = clf_d.predict(X_test)"
   ]
  },
  {
   "cell_type": "code",
   "execution_count": 151,
   "metadata": {
    "collapsed": false
   },
   "outputs": [
    {
     "name": "stdout",
     "output_type": "stream",
     "text": [
      "[[ 53.72647538   1.37082987   0.13534027]\n",
      " [ 15.71946023   1.35003624   0.13802312]\n",
      " [ 60.20053803   1.21874007   0.12708614]\n",
      " [ 55.63423955   0.9960342    0.11637609]\n",
      " [ 18.52549748   1.39898345   0.14020039]]\n",
      "       d     p    s\n",
      "0  46.52  1.28  0.0\n",
      "1  19.32  1.27  0.0\n",
      "2  51.18  1.12  0.0\n",
      "3  47.95  0.89  0.0\n",
      "4  21.32  1.32  0.0\n"
     ]
    },
    {
     "data": {
      "text/plain": [
       "d    27.874452\n",
       "p     0.128041\n",
       "s     2.535650\n",
       "dtype: float64"
      ]
     },
     "execution_count": 151,
     "metadata": {},
     "output_type": "execute_result"
    }
   ],
   "source": [
    "print(df_out[:5])\n",
    "print(df_test[:5])\n",
    "za = pd.DataFrame(df_out-df_test)\n",
    "# ya = pd.DataFrame(y_test-t_out)\n",
    "# print(ya.mean())\n",
    "za.sum()/1200"
   ]
  },
  {
   "cell_type": "code",
   "execution_count": 152,
   "metadata": {
    "collapsed": false
   },
   "outputs": [
    {
     "name": "stdout",
     "output_type": "stream",
     "text": [
      "       d     p    s\n",
      "0  46.52  1.28  0.0\n",
      "1  19.32  1.27  0.0\n",
      "2  51.18  1.12  0.0\n",
      "3  47.95  0.89  0.0\n",
      "4  21.32  1.32  0.0\n",
      "           0         1         2\n",
      "0  53.726475  1.370830  0.135340\n",
      "1  15.719460  1.350036  0.138023\n",
      "2  60.200538  1.218740  0.127086\n",
      "3  55.634240  0.996034  0.116376\n",
      "4  18.525497  1.398983  0.140200\n"
     ]
    }
   ],
   "source": [
    "df_p = pd.DataFrame(df_out)\n",
    "print(df_test.head())\n",
    "print(df_p.head())"
   ]
  },
  {
   "cell_type": "code",
   "execution_count": 153,
   "metadata": {
    "collapsed": false
   },
   "outputs": [
    {
     "data": {
      "text/html": [
       "<div>\n",
       "<style scoped>\n",
       "    .dataframe tbody tr th:only-of-type {\n",
       "        vertical-align: middle;\n",
       "    }\n",
       "\n",
       "    .dataframe tbody tr th {\n",
       "        vertical-align: top;\n",
       "    }\n",
       "\n",
       "    .dataframe thead th {\n",
       "        text-align: right;\n",
       "    }\n",
       "</style>\n",
       "<table border=\"1\" class=\"dataframe\">\n",
       "  <thead>\n",
       "    <tr style=\"text-align: right;\">\n",
       "      <th></th>\n",
       "      <th>0</th>\n",
       "      <th>1</th>\n",
       "      <th>2</th>\n",
       "    </tr>\n",
       "  </thead>\n",
       "  <tbody>\n",
       "    <tr>\n",
       "      <th>count</th>\n",
       "      <td>2400.000000</td>\n",
       "      <td>2400.000000</td>\n",
       "      <td>2400.000000</td>\n",
       "    </tr>\n",
       "    <tr>\n",
       "      <th>mean</th>\n",
       "      <td>76.399647</td>\n",
       "      <td>2.906941</td>\n",
       "      <td>6.863150</td>\n",
       "    </tr>\n",
       "    <tr>\n",
       "      <th>std</th>\n",
       "      <td>56.640027</td>\n",
       "      <td>1.157964</td>\n",
       "      <td>8.768020</td>\n",
       "    </tr>\n",
       "    <tr>\n",
       "      <th>min</th>\n",
       "      <td>4.394935</td>\n",
       "      <td>0.551046</td>\n",
       "      <td>0.098046</td>\n",
       "    </tr>\n",
       "    <tr>\n",
       "      <th>25%</th>\n",
       "      <td>25.329624</td>\n",
       "      <td>2.017704</td>\n",
       "      <td>0.172384</td>\n",
       "    </tr>\n",
       "    <tr>\n",
       "      <th>50%</th>\n",
       "      <td>64.410575</td>\n",
       "      <td>2.749615</td>\n",
       "      <td>0.312382</td>\n",
       "    </tr>\n",
       "    <tr>\n",
       "      <th>75%</th>\n",
       "      <td>115.115171</td>\n",
       "      <td>3.603652</td>\n",
       "      <td>13.807643</td>\n",
       "    </tr>\n",
       "    <tr>\n",
       "      <th>max</th>\n",
       "      <td>325.449153</td>\n",
       "      <td>8.029792</td>\n",
       "      <td>31.320768</td>\n",
       "    </tr>\n",
       "  </tbody>\n",
       "</table>\n",
       "</div>"
      ],
      "text/plain": [
       "                 0            1            2\n",
       "count  2400.000000  2400.000000  2400.000000\n",
       "mean     76.399647     2.906941     6.863150\n",
       "std      56.640027     1.157964     8.768020\n",
       "min       4.394935     0.551046     0.098046\n",
       "25%      25.329624     2.017704     0.172384\n",
       "50%      64.410575     2.749615     0.312382\n",
       "75%     115.115171     3.603652    13.807643\n",
       "max     325.449153     8.029792    31.320768"
      ]
     },
     "execution_count": 153,
     "metadata": {},
     "output_type": "execute_result"
    }
   ],
   "source": [
    "df_p.describe()"
   ]
  },
  {
   "cell_type": "code",
   "execution_count": 154,
   "metadata": {
    "collapsed": false
   },
   "outputs": [],
   "source": [
    "d = pd.DataFrame()\n",
    "d[0] = df_p[0] - df_p[2]\n",
    "d[0] = d[0] \n",
    "d[1] = df_p[1] + 0.45  #.45\n"
   ]
  },
  {
   "cell_type": "code",
   "execution_count": 155,
   "metadata": {
    "collapsed": true
   },
   "outputs": [],
   "source": [
    "# for i in range(50):\n",
    "#     z = 0.\n",
    "#     for j in range(24):\n",
    "#         need = df_p[0][i*24+j]- df_p[2][i*24+j] \n",
    "#         need += da[i*24+j]\n",
    "# #     for j in range(24):\n",
    "# #         need = df_p[0][i*24+j]- df_p[2][i*24+j] \n",
    "# #         z = z + need * df_p[1][i*24+j]\n",
    "# #     z = z/24.\n",
    "# #     for j in range(24):\n",
    "# #         need = df_p[0][i*24+j]- df_p[2][i*24+j]\n",
    "# #         if need * df_p[1][i*24+j] > z:\n",
    "# #             need = need - 4\n",
    "# #         else:\n",
    "# #             need = need + 5\n",
    "#         d[0][i*24+j] = need"
   ]
  },
  {
   "cell_type": "code",
   "execution_count": 156,
   "metadata": {
    "collapsed": true
   },
   "outputs": [],
   "source": [
    "d[0] = d[0]\n",
    "p = pd.DataFrame()\n",
    "p[0] = d[1]\n",
    "p[1] = d[0]\n",
    "p.reset_index()\n",
    "p.to_csv('9.csv',index=False,header=None)"
   ]
  },
  {
   "cell_type": "code",
   "execution_count": 157,
   "metadata": {
    "collapsed": true
   },
   "outputs": [],
   "source": [
    "data = [i for i in range(900*24)]\n",
    "label = []"
   ]
  },
  {
   "cell_type": "code",
   "execution_count": 158,
   "metadata": {
    "collapsed": false
   },
   "outputs": [
    {
     "data": {
      "text/html": [
       "<div>\n",
       "<style scoped>\n",
       "    .dataframe tbody tr th:only-of-type {\n",
       "        vertical-align: middle;\n",
       "    }\n",
       "\n",
       "    .dataframe tbody tr th {\n",
       "        vertical-align: top;\n",
       "    }\n",
       "\n",
       "    .dataframe thead th {\n",
       "        text-align: right;\n",
       "    }\n",
       "</style>\n",
       "<table border=\"1\" class=\"dataframe\">\n",
       "  <thead>\n",
       "    <tr style=\"text-align: right;\">\n",
       "      <th></th>\n",
       "      <th>0</th>\n",
       "      <th>1</th>\n",
       "    </tr>\n",
       "  </thead>\n",
       "  <tbody>\n",
       "    <tr>\n",
       "      <th>0</th>\n",
       "      <td>1.820830</td>\n",
       "      <td>53.591135</td>\n",
       "    </tr>\n",
       "    <tr>\n",
       "      <th>1</th>\n",
       "      <td>1.800036</td>\n",
       "      <td>15.581437</td>\n",
       "    </tr>\n",
       "    <tr>\n",
       "      <th>2</th>\n",
       "      <td>1.668740</td>\n",
       "      <td>60.073452</td>\n",
       "    </tr>\n",
       "    <tr>\n",
       "      <th>3</th>\n",
       "      <td>1.446034</td>\n",
       "      <td>55.517863</td>\n",
       "    </tr>\n",
       "    <tr>\n",
       "      <th>4</th>\n",
       "      <td>1.848983</td>\n",
       "      <td>18.385297</td>\n",
       "    </tr>\n",
       "  </tbody>\n",
       "</table>\n",
       "</div>"
      ],
      "text/plain": [
       "          0          1\n",
       "0  1.820830  53.591135\n",
       "1  1.800036  15.581437\n",
       "2  1.668740  60.073452\n",
       "3  1.446034  55.517863\n",
       "4  1.848983  18.385297"
      ]
     },
     "execution_count": 158,
     "metadata": {},
     "output_type": "execute_result"
    }
   ],
   "source": [
    "p.head()"
   ]
  },
  {
   "cell_type": "code",
   "execution_count": 159,
   "metadata": {
    "collapsed": true
   },
   "outputs": [],
   "source": [
    "import numpy as np\n",
    "dp = np.zeros(shape=[2500,55], dtype=np.float)\n",
    "prb = np.zeros(shape=[2500,55], dtype=np.float)\n",
    "r = np.zeros(shape=[2500,], dtype=np.float)\n",
    "p = np.zeros(shape=[2500,], dtype=np.float)\n",
    "flag = np.zeros(shape=[2500,55], dtype=np.float)\n"
   ]
  },
  {
   "cell_type": "code",
   "execution_count": 160,
   "metadata": {
    "collapsed": true
   },
   "outputs": [],
   "source": [
    "r = np.array(d[0])\n",
    "p = np.array(d[1])"
   ]
  },
  {
   "cell_type": "code",
   "execution_count": 161,
   "metadata": {
    "collapsed": true
   },
   "outputs": [],
   "source": [
    "# print(len(r))"
   ]
  },
  {
   "cell_type": "code",
   "execution_count": 162,
   "metadata": {
    "collapsed": true
   },
   "outputs": [],
   "source": [
    "def solv2e(curr, b):\n",
    "    global dp\n",
    "    global r\n",
    "    global p\n",
    "    global flag\n",
    "    global prb\n",
    "#     print(type(flag))\n",
    "#     pass\n",
    "    if curr >= 2400:\n",
    "#         print(curr, b)\n",
    "        return 0\n",
    "    if r[curr] <= 0:\n",
    "        flag[curr, b] = 1\n",
    "        dp[curr, b] = 1e9\n",
    "        for i in range(5):\n",
    "            if i + b > 25:\n",
    "                continue\n",
    "            cost = i*1.25*p[curr]\n",
    "            x = solv2e(curr+1,b+i)\n",
    "            if cost + x < dp[curr,b]:\n",
    "                dp[curr,b] = cost + x\n",
    "                prb[curr,b] = i\n",
    "        return dp[curr, b]\n",
    "    if flag[curr,b] > 0:\n",
    "        return dp[curr,b]\n",
    "    flag[curr,b] = 1\n",
    "    dp[curr,b] = 1e9\n",
    "    for i in range(int(min(5,min(b,r[curr]))+1)):\n",
    "        cost = (r[curr] - i)*p[curr]\n",
    "        x = solv2e(curr+1, b-i)\n",
    "        if cost + x < dp[curr,b]:\n",
    "            dp[curr,b] = cost + x\n",
    "            prb[curr,b] = -i\n",
    "#         dp[curr,b] = min(dp[curr,b], cost + solve(curr+1, b-i))\n",
    "    for j in range(4):\n",
    "        i = j+1\n",
    "        if i + b > 25:\n",
    "            continue\n",
    "        cost = (r[curr] + i*1.25)*p[curr]\n",
    "        x = solv2e(curr+1, b+i)\n",
    "        if cost + x < dp[curr, b]:\n",
    "            dp[curr,b] = cost + x\n",
    "            prb[curr, b] = i\n",
    "#         dp[curr,b] = min(dp[curr,b], cost + solve(curr+1, b+i))\n",
    "    return dp[curr,b]"
   ]
  },
  {
   "cell_type": "code",
   "execution_count": 163,
   "metadata": {
    "collapsed": false
   },
   "outputs": [
    {
     "name": "stdout",
     "output_type": "stream",
     "text": [
      "589764.252908\n"
     ]
    }
   ],
   "source": [
    "import sys\n",
    "sys.setrecursionlimit(10000)\n",
    "ans = solv2e(0,0)\n",
    "print(ans)"
   ]
  },
  {
   "cell_type": "code",
   "execution_count": 164,
   "metadata": {
    "collapsed": false
   },
   "outputs": [
    {
     "data": {
      "image/png": "[encoded data removed]",
      "text/plain": [
       "<matplotlib.figure.Figure at 0x7f0d6c1692b0>"
      ]
     },
     "metadata": {},
     "output_type": "display_data"
    },
    {
     "data": {
      "image/png": "[encoded data removed]",
      "text/plain": [
       "<matplotlib.figure.Figure at 0x7f0d6c290470>"
      ]
     },
     "metadata": {},
     "output_type": "display_data"
    },
    {
     "data": {
      "image/png": "[encoded data removed]",
      "text/plain": [
       "<matplotlib.figure.Figure at 0x7f0d6c0970f0>"
      ]
     },
     "metadata": {},
     "output_type": "display_data"
    }
   ],
   "source": [
    "da = []\n",
    "bat = 0\n",
    "for i in range(2400):\n",
    "    da.append(prb[i,bat])\n",
    "    bat += int(prb[i,bat])\n",
    "plt.plot(np.array(da[:50]))\n",
    "plt.show()\n",
    "plt.plot(d[0][:50])\n",
    "plt.show()\n",
    "plt.plot(d[1][:50])\n",
    "plt.show()"
   ]
  },
  {
   "cell_type": "code",
   "execution_count": 165,
   "metadata": {
    "collapsed": false
   },
   "outputs": [
    {
     "name": "stdout",
     "output_type": "stream",
     "text": [
      "593868.56354\n"
     ]
    }
   ],
   "source": [
    "z = 0\n",
    "for i in range(2400):\n",
    "    z += r[i]*p[i]\n",
    "print(z)"
   ]
  },
  {
   "cell_type": "code",
   "execution_count": null,
   "metadata": {
    "collapsed": true
   },
   "outputs": [],
   "source": []
  },
  {
   "cell_type": "code",
   "execution_count": 166,
   "metadata": {
    "collapsed": false
   },
   "outputs": [],
   "source": [
    "for i in range(100):\n",
    "    z = 0.\n",
    "    for j in range(24):\n",
    "        need = df_p[0][i*24+j]- df_p[2][i*24+j] \n",
    "        need += da[i*24+j]\n",
    "#     for j in range(24):\n",
    "#         need = df_p[0][i*24+j]- df_p[2][i*24+j] \n",
    "#         z = z + need * df_p[1][i*24+j]\n",
    "#     z = z/24.\n",
    "#     for j in range(24):\n",
    "#         need = df_p[0][i*24+j]- df_p[2][i*24+j]\n",
    "#         if need * df_p[1][i*24+j] > z:\n",
    "#             need = need - 4\n",
    "#         else:\n",
    "#             need = need + 5\n",
    "        d[0][i*24+j] = need"
   ]
  },
  {
   "cell_type": "code",
   "execution_count": null,
   "metadata": {
    "collapsed": true
   },
   "outputs": [],
   "source": []
  },
  {
   "cell_type": "code",
   "execution_count": 167,
   "metadata": {
    "collapsed": true
   },
   "outputs": [],
   "source": [
    "p = pd.DataFrame()\n",
    "p[0] = d[1]\n",
    "p[1] = d[0] +1  #+1 #-1 \n",
    "p[0].loc[p[0]>=7]=7\n",
    "p.reset_index()\n",
    "p.to_csv('9.csv',index=False,header=None)"
   ]
  },
  {
   "cell_type": "code",
   "execution_count": 168,
   "metadata": {
    "collapsed": false
   },
   "outputs": [],
   "source": [
    "# p.describe()"
   ]
  },
  {
   "cell_type": "code",
   "execution_count": null,
   "metadata": {
    "collapsed": true
   },
   "outputs": [],
   "source": []
  }
 ],
 "metadata": {
  "anaconda-cloud": {},
  "kernelspec": {
   "display_name": "Python [conda root]",
   "language": "python",
   "name": "conda-root-py"
  },
  "language_info": {
   "codemirror_mode": {
    "name": "ipython",
    "version": 3
   },
   "file_extension": ".py",
   "mimetype": "text/x-python",
   "name": "python",
   "nbconvert_exporter": "python",
   "pygments_lexer": "ipython3",
   "version": "3.5.4"
  }
 },
 "nbformat": 4,
 "nbformat_minor": 2
}
