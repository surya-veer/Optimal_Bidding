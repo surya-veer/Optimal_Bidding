{
 "cells": [
  {
   "cell_type": "code",
   "execution_count": 52,
   "metadata": {
    "collapsed": false
   },
   "outputs": [],
   "source": [
    "import numpy as np\n",
    "import pandas as pd\n",
    "import matplotlib.pyplot as plt\n",
    "from matplotlib import style\n",
    "style.use('ggplot')\n",
    "from sklearn import cross_validation, preprocessing, svm\n",
    "from sklearn.linear_model import LinearRegression\n",
    "from sklearn.ensemble import RandomForestClassifier\n",
    "from sklearn.metrics import accuracy_score"
   ]
  },
  {
   "cell_type": "code",
   "execution_count": 53,
   "metadata": {
    "collapsed": true
   },
   "outputs": [],
   "source": [
    "def data_frame(string):\n",
    "    df = pd.read_csv(string,names=[i for i in range(1,25)])\n",
    "    lis = [i for i in range(len(df)+1)]\n",
    "    df[0] =  pd.DataFrame({'col':lis})\n",
    "    df.set_index(0)\n",
    "    # print(df[2][4])\n",
    "    #(df.head())\n",
    "    l = []\n",
    "    for i in range(len(df)):\n",
    "        for x in range(1,25):\n",
    "            l.append(df[x][i])\n",
    "    df_new = pd.DataFrame()\n",
    "    df_new['d_train'] = pd.DataFrame({'d_train':l})\n",
    "    #print(df_new['d_train'].head())\n",
    "    return df_new['d_train']"
   ]
  },
  {
   "cell_type": "code",
   "execution_count": 54,
   "metadata": {
    "collapsed": false
   },
   "outputs": [],
   "source": [
    "def previous_low(string):\n",
    "    df = pd.read_csv(string,names=[i for i in range(24)])\n",
    "    l = []\n",
    "    #print(df)\n",
    "    low = df.iloc[0,:].min()\n",
    "    for j in range(24):\n",
    "        l.append(low)\n",
    "    for i in range(0,899):\n",
    "        low = df.iloc[i,:].min()\n",
    "        for j in range(24):\n",
    "            l.append(low)\n",
    "    \n",
    "    df_new = pd.DataFrame({'previous_low':l})\n",
    "    return df_new\n",
    "def previous_high(string):\n",
    "    df = pd.read_csv(string,names=[i for i in range(24)])\n",
    "    l = []\n",
    "    #print(df)\n",
    "    low = df.iloc[0,:].max()\n",
    "    for j in range(24):\n",
    "        l.append(low)\n",
    "    for i in range(0,899):\n",
    "        low = df.iloc[i,:].max()\n",
    "        for j in range(24):\n",
    "            l.append(low)\n",
    "    \n",
    "    df_new = pd.DataFrame({'previous_high':l})\n",
    "    return df_new\n",
    "    \n",
    "def previous_avg(string):\n",
    "    df = pd.read_csv(string,names=[i for i in range(24)])\n",
    "    l = []\n",
    "    #print(df)\n",
    "    low = df.iloc[0,:].mean()\n",
    "    for j in range(24):\n",
    "        l.append(low)\n",
    "    for i in range(0,899):\n",
    "        low = df.iloc[i,:].mean()\n",
    "        for j in range(24):\n",
    "            l.append(low)\n",
    "    \n",
    "    df_new = pd.DataFrame({'previous_avg':l})\n",
    "    return df_new\n",
    "\n",
    "def today_low(string):\n",
    "    df = pd.read_csv(string,names=[i for i in range(24)])\n",
    "    l = []\n",
    "    #print(df)\n",
    "    for i in range(900):\n",
    "        low = df.iloc[i,:].min()\n",
    "        for j in range(24):\n",
    "            l.append(low)\n",
    "    df_new = pd.DataFrame({'today_low':l})\n",
    "    return df_new\n",
    "    \n",
    "    \n",
    "def today_high(string):\n",
    "    df = pd.read_csv(string,names=[i for i in range(24)])\n",
    "    l = []\n",
    "    #print(df)\n",
    "    for i in range(900):\n",
    "        low = df.iloc[i,:].max()\n",
    "        for j in range(24):\n",
    "            l.append(low)\n",
    "    df_new = pd.DataFrame({'today_high':l})\n",
    "    return df_new\n",
    "    \n",
    "def today_avg(string):\n",
    "    df = pd.read_csv(string,names=[i for i in range(24)])\n",
    "    l = []\n",
    "    #print(df)\n",
    "    for i in range(900):\n",
    "        low = df.iloc[i,:].mean()\n",
    "        for j in range(24):\n",
    "            l.append(low)\n",
    "    df_new = pd.DataFrame({'today_avg':l})\n",
    "    return df_new\n",
    "\n",
    "def getAll(string):\n",
    "    l = []\n",
    "    l.append(today_low(string))\n",
    "    l.append(today_high(string))\n",
    "    l.append(today_avg(string))\n",
    "    return l\n",
    "    \n",
    "    "
   ]
  },
  {
   "cell_type": "code",
   "execution_count": 55,
   "metadata": {
    "collapsed": false
   },
   "outputs": [],
   "source": [
    "df_x = pd.DataFrame()\n",
    "df_y = pd.DataFrame()\n",
    "\n",
    "df_y['d_train'] = data_frame('Demand_Train.csv')\n",
    "df_x['d_pred'] = data_frame('Demand_Train_pred.csv')\n",
    "#df_x['today_low'],df_x['today_high'],df_x['today_avg'] = getAll('Demand_Train_pred.csv')\n",
    "\n",
    "df_y['p_train'] = data_frame('Price_Train.csv')\n",
    "df_x['p_pred'] = data_frame('Price_Train_pred.csv')\n",
    "\n",
    "df_y['s_train'] = data_frame('Solar_Train.csv')\n",
    "df_x['s_pred'] = data_frame('Solar_Train_pred.csv')\n",
    "\n",
    "\n",
    "\n"
   ]
  },
  {
   "cell_type": "code",
   "execution_count": 56,
   "metadata": {
    "collapsed": true
   },
   "outputs": [],
   "source": [
    "df_x.fillna('bfill',inplace=True)\n",
    "df_y.fillna('bfill',inplace=True)"
   ]
  },
  {
   "cell_type": "code",
   "execution_count": 57,
   "metadata": {
    "collapsed": false
   },
   "outputs": [],
   "source": [
    "#print(df_x.tail(),df_y.tail())"
   ]
  },
  {
   "cell_type": "code",
   "execution_count": 58,
   "metadata": {
    "collapsed": true
   },
   "outputs": [],
   "source": [
    "# print(df_x.head())\n",
    "# # fig = plt.figure()\n",
    "# # ax1 = plt.subplot2grid((1,1),(0,0))\n",
    "# # ax2 = plt.subplot2grid((1,1),(1,1))\n",
    "# x = (df_x['d_train']-df_x['s_train']) - (df_y['d_pred']-df_y['s_pred'])\n",
    "# x.plot()\n",
    "# # df_new['d_train'].plot(ax = ax2,label='Time')\n",
    "\n",
    "# plt.legend()\n",
    "# plt.show()"
   ]
  },
  {
   "cell_type": "code",
   "execution_count": 59,
   "metadata": {
    "collapsed": false
   },
   "outputs": [
    {
     "data": {
      "text/plain": [
       "LinearRegression(copy_X=True, fit_intercept=True, n_jobs=1, normalize=False)"
      ]
     },
     "execution_count": 59,
     "metadata": {},
     "output_type": "execute_result"
    }
   ],
   "source": [
    "X = np.array(df_x).astype('float')\n",
    "X = preprocessing.scale(X)\n",
    "y = np.array(df_y).astype('float')\n",
    "# from sklearn.utils import resample\n",
    "# X, y = resample(X, y, random_state=0)\n",
    "# print(X[:5],y[:5])\n",
    "X_train, X_test, y_train, y_test = cross_validation.train_test_split(X,y,test_size=0.0)\n",
    "clf_d = LinearRegression()\n",
    "# clf = RandomForestClassifier()\n",
    "# clf_d = svm.SVR(kernel = 'linear') \n",
    "clf_d.fit(X_train,y_train)\n",
    "#clf_d.score(X_train,y_train)"
   ]
  },
  {
   "cell_type": "code",
   "execution_count": 60,
   "metadata": {
    "collapsed": true
   },
   "outputs": [],
   "source": [
    "df_test = pd.DataFrame()\n",
    "df_test['d'] = data_frame('Demand_LB_pred.csv')\n",
    "df_test['p'] = data_frame('Price_LB_pred.csv')\n",
    "df_test['s'] = data_frame('Solar_LB_pred.csv')\n",
    "#df_test['today_low'],df_test['today_high'],df_test['today_avg'] = getAll('Demand_Train_pred.csv')"
   ]
  },
  {
   "cell_type": "code",
   "execution_count": 61,
   "metadata": {
    "collapsed": false
   },
   "outputs": [],
   "source": [
    "df_out = pd.DataFrame()\n",
    "df_out = clf_d.predict(preprocessing.scale(df_test))\n",
    "# t_out = pd.DataFrame()\n",
    "# t_out = clf_d.predict(X_test)"
   ]
  },
  {
   "cell_type": "code",
   "execution_count": 62,
   "metadata": {
    "collapsed": false
   },
   "outputs": [
    {
     "name": "stdout",
     "output_type": "stream",
     "text": [
      "[[ 28.88609231   2.08507094   0.47395216]\n",
      " [ 27.33008238   1.79503139   0.4595737 ]\n",
      " [ 22.68692018   1.81234964   0.46089636]\n",
      " [ 70.27663024   1.65819026   0.44850929]\n",
      " [ 15.48158789   1.87562176   0.46477239]]\n",
      "       d     p    s\n",
      "0  31.20  2.10  0.0\n",
      "1  29.86  1.79  0.0\n",
      "2  25.67  1.81  0.0\n",
      "3  68.61  1.63  0.0\n",
      "4  19.16  1.88  0.0\n"
     ]
    },
    {
     "data": {
      "text/plain": [
       "d    2.565822\n",
       "p   -0.032159\n",
       "s    1.558700\n",
       "dtype: float64"
      ]
     },
     "execution_count": 62,
     "metadata": {},
     "output_type": "execute_result"
    }
   ],
   "source": [
    "print(df_out[:5])\n",
    "print(df_test[:5])\n",
    "za = pd.DataFrame(df_out-df_test)\n",
    "# ya = pd.DataFrame(y_test-t_out)\n",
    "# print(ya.mean())\n",
    "za.sum()/1200"
   ]
  },
  {
   "cell_type": "code",
   "execution_count": 63,
   "metadata": {
    "collapsed": false
   },
   "outputs": [
    {
     "name": "stdout",
     "output_type": "stream",
     "text": [
      "       d     p    s\n",
      "0  31.20  2.10  0.0\n",
      "1  29.86  1.79  0.0\n",
      "2  25.67  1.81  0.0\n",
      "3  68.61  1.63  0.0\n",
      "4  19.16  1.88  0.0\n",
      "           0         1         2\n",
      "0  28.886092  2.085071  0.473952\n",
      "1  27.330082  1.795031  0.459574\n",
      "2  22.686920  1.812350  0.460896\n",
      "3  70.276630  1.658190  0.448509\n",
      "4  15.481588  1.875622  0.464772\n"
     ]
    }
   ],
   "source": [
    "df_p = pd.DataFrame(df_out)\n",
    "print(df_test.head())\n",
    "print(df_p.head())"
   ]
  },
  {
   "cell_type": "code",
   "execution_count": 64,
   "metadata": {
    "collapsed": false
   },
   "outputs": [
    {
     "data": {
      "text/html": [
       "<div>\n",
       "<style scoped>\n",
       "    .dataframe tbody tr th:only-of-type {\n",
       "        vertical-align: middle;\n",
       "    }\n",
       "\n",
       "    .dataframe tbody tr th {\n",
       "        vertical-align: top;\n",
       "    }\n",
       "\n",
       "    .dataframe thead th {\n",
       "        text-align: right;\n",
       "    }\n",
       "</style>\n",
       "<table border=\"1\" class=\"dataframe\">\n",
       "  <thead>\n",
       "    <tr style=\"text-align: right;\">\n",
       "      <th></th>\n",
       "      <th>0</th>\n",
       "      <th>1</th>\n",
       "      <th>2</th>\n",
       "    </tr>\n",
       "  </thead>\n",
       "  <tbody>\n",
       "    <tr>\n",
       "      <th>count</th>\n",
       "      <td>1200.000000</td>\n",
       "      <td>1200.000000</td>\n",
       "      <td>1200.000000</td>\n",
       "    </tr>\n",
       "    <tr>\n",
       "      <th>mean</th>\n",
       "      <td>76.399647</td>\n",
       "      <td>2.906941</td>\n",
       "      <td>6.863150</td>\n",
       "    </tr>\n",
       "    <tr>\n",
       "      <th>std</th>\n",
       "      <td>56.670958</td>\n",
       "      <td>1.160471</td>\n",
       "      <td>8.771817</td>\n",
       "    </tr>\n",
       "    <tr>\n",
       "      <th>min</th>\n",
       "      <td>10.453419</td>\n",
       "      <td>0.520872</td>\n",
       "      <td>0.396839</td>\n",
       "    </tr>\n",
       "    <tr>\n",
       "      <th>25%</th>\n",
       "      <td>25.823327</td>\n",
       "      <td>2.029991</td>\n",
       "      <td>0.472142</td>\n",
       "    </tr>\n",
       "    <tr>\n",
       "      <th>50%</th>\n",
       "      <td>64.340709</td>\n",
       "      <td>2.772087</td>\n",
       "      <td>0.540571</td>\n",
       "    </tr>\n",
       "    <tr>\n",
       "      <th>75%</th>\n",
       "      <td>110.256019</td>\n",
       "      <td>3.596573</td>\n",
       "      <td>13.443528</td>\n",
       "    </tr>\n",
       "    <tr>\n",
       "      <th>max</th>\n",
       "      <td>321.736846</td>\n",
       "      <td>7.997144</td>\n",
       "      <td>30.879021</td>\n",
       "    </tr>\n",
       "  </tbody>\n",
       "</table>\n",
       "</div>"
      ],
      "text/plain": [
       "                 0            1            2\n",
       "count  1200.000000  1200.000000  1200.000000\n",
       "mean     76.399647     2.906941     6.863150\n",
       "std      56.670958     1.160471     8.771817\n",
       "min      10.453419     0.520872     0.396839\n",
       "25%      25.823327     2.029991     0.472142\n",
       "50%      64.340709     2.772087     0.540571\n",
       "75%     110.256019     3.596573    13.443528\n",
       "max     321.736846     7.997144    30.879021"
      ]
     },
     "execution_count": 64,
     "metadata": {},
     "output_type": "execute_result"
    }
   ],
   "source": [
    "df_p.describe()"
   ]
  },
  {
   "cell_type": "code",
   "execution_count": 65,
   "metadata": {
    "collapsed": false
   },
   "outputs": [],
   "source": [
    "d = pd.DataFrame()\n",
    "d[0] = df_p[0] - df_p[2]\n",
    "d[0] = d[0] \n",
    "d[1] = df_p[1] + 0.45  #.45\n"
   ]
  },
  {
   "cell_type": "code",
   "execution_count": 66,
   "metadata": {
    "collapsed": true
   },
   "outputs": [],
   "source": [
    "# for i in range(50):\n",
    "#     z = 0.\n",
    "#     for j in range(24):\n",
    "#         need = df_p[0][i*24+j]- df_p[2][i*24+j] \n",
    "#         need += da[i*24+j]\n",
    "# #     for j in range(24):\n",
    "# #         need = df_p[0][i*24+j]- df_p[2][i*24+j] \n",
    "# #         z = z + need * df_p[1][i*24+j]\n",
    "# #     z = z/24.\n",
    "# #     for j in range(24):\n",
    "# #         need = df_p[0][i*24+j]- df_p[2][i*24+j]\n",
    "# #         if need * df_p[1][i*24+j] > z:\n",
    "# #             need = need - 4\n",
    "# #         else:\n",
    "# #             need = need + 5\n",
    "#         d[0][i*24+j] = need"
   ]
  },
  {
   "cell_type": "code",
   "execution_count": 67,
   "metadata": {
    "collapsed": true
   },
   "outputs": [],
   "source": [
    "d[0] = d[0]\n",
    "p = pd.DataFrame()\n",
    "p[0] = d[1]\n",
    "p[1] = d[0]\n",
    "p.reset_index()\n",
    "p.to_csv('9.csv',index=False,header=None)"
   ]
  },
  {
   "cell_type": "code",
   "execution_count": 68,
   "metadata": {
    "collapsed": true
   },
   "outputs": [],
   "source": [
    "data = [i for i in range(900*24)]\n",
    "label = []"
   ]
  },
  {
   "cell_type": "code",
   "execution_count": 69,
   "metadata": {
    "collapsed": false
   },
   "outputs": [
    {
     "data": {
      "text/html": [
       "<div>\n",
       "<style scoped>\n",
       "    .dataframe tbody tr th:only-of-type {\n",
       "        vertical-align: middle;\n",
       "    }\n",
       "\n",
       "    .dataframe tbody tr th {\n",
       "        vertical-align: top;\n",
       "    }\n",
       "\n",
       "    .dataframe thead th {\n",
       "        text-align: right;\n",
       "    }\n",
       "</style>\n",
       "<table border=\"1\" class=\"dataframe\">\n",
       "  <thead>\n",
       "    <tr style=\"text-align: right;\">\n",
       "      <th></th>\n",
       "      <th>0</th>\n",
       "      <th>1</th>\n",
       "    </tr>\n",
       "  </thead>\n",
       "  <tbody>\n",
       "    <tr>\n",
       "      <th>0</th>\n",
       "      <td>2.535071</td>\n",
       "      <td>28.412140</td>\n",
       "    </tr>\n",
       "    <tr>\n",
       "      <th>1</th>\n",
       "      <td>2.245031</td>\n",
       "      <td>26.870509</td>\n",
       "    </tr>\n",
       "    <tr>\n",
       "      <th>2</th>\n",
       "      <td>2.262350</td>\n",
       "      <td>22.226024</td>\n",
       "    </tr>\n",
       "    <tr>\n",
       "      <th>3</th>\n",
       "      <td>2.108190</td>\n",
       "      <td>69.828121</td>\n",
       "    </tr>\n",
       "    <tr>\n",
       "      <th>4</th>\n",
       "      <td>2.325622</td>\n",
       "      <td>15.016815</td>\n",
       "    </tr>\n",
       "  </tbody>\n",
       "</table>\n",
       "</div>"
      ],
      "text/plain": [
       "          0          1\n",
       "0  2.535071  28.412140\n",
       "1  2.245031  26.870509\n",
       "2  2.262350  22.226024\n",
       "3  2.108190  69.828121\n",
       "4  2.325622  15.016815"
      ]
     },
     "execution_count": 69,
     "metadata": {},
     "output_type": "execute_result"
    }
   ],
   "source": [
    "p.head()"
   ]
  },
  {
   "cell_type": "code",
   "execution_count": 70,
   "metadata": {
    "collapsed": true
   },
   "outputs": [],
   "source": [
    "import numpy as np\n",
    "dp = np.zeros(shape=[2222,55], dtype=np.float)\n",
    "# pri = np.zeros(shape=[2222,55], dype=np.float)\n",
    "prb = np.zeros(shape=[2222,55], dtype=np.float)\n",
    "r = np.zeros(shape=[2222,], dtype=np.float)\n",
    "p = np.zeros(shape=[2222,], dtype=np.float)\n",
    "flag = np.zeros(shape=[2222,55], dtype=np.float)\n"
   ]
  },
  {
   "cell_type": "code",
   "execution_count": 71,
   "metadata": {
    "collapsed": true
   },
   "outputs": [],
   "source": [
    "r = np.array(d[0])\n",
    "p = np.array(d[1])"
   ]
  },
  {
   "cell_type": "code",
   "execution_count": 72,
   "metadata": {
    "collapsed": true
   },
   "outputs": [],
   "source": [
    "# print(len(r))"
   ]
  },
  {
   "cell_type": "code",
   "execution_count": 73,
   "metadata": {
    "collapsed": true
   },
   "outputs": [],
   "source": [
    "def solv2e(curr, b):\n",
    "#     if curr >= 1000:\n",
    "#         print(curr)\n",
    "#         return 0\n",
    "# #     return 0\n",
    "    global dp\n",
    "    global r\n",
    "    global p\n",
    "    global flag\n",
    "    global prb\n",
    "#     print(type(flag))\n",
    "#     pass\n",
    "    if curr >= 1200:\n",
    "#         print(curr, b)\n",
    "        return 0\n",
    "    if r[curr] <= 0:\n",
    "        flag[curr, b] = 1\n",
    "        dp[curr, b] = 1e9\n",
    "        for i in range(5):\n",
    "            if i + b > 25:\n",
    "                continue\n",
    "            cost = i*1.25*p[curr]\n",
    "            x = solv2e(curr+1,b+i)\n",
    "            if cost + x < dp[curr,b]:\n",
    "                dp[curr,b] = cost + x\n",
    "                prb[curr,b] = i\n",
    "        return dp[curr, b]\n",
    "    if flag[curr,b] > 0:\n",
    "        return dp[curr,b]\n",
    "    flag[curr,b] = 1\n",
    "    dp[curr,b] = 1e9\n",
    "    for i in range(int(min(5,min(b,r[curr]))+1)):\n",
    "        cost = (r[curr] - i)*p[curr]\n",
    "        x = solv2e(curr+1, b-i)\n",
    "        if cost + x < dp[curr,b]:\n",
    "            dp[curr,b] = cost + x\n",
    "            prb[curr,b] = -i\n",
    "#         dp[curr,b] = min(dp[curr,b], cost + solve(curr+1, b-i))\n",
    "    for j in range(4):\n",
    "        i = j+1\n",
    "        if i + b > 25:\n",
    "            continue\n",
    "        cost = (r[curr] + i*1.25)*p[curr]\n",
    "        x = solv2e(curr+1, b+i)\n",
    "        if cost + x < dp[curr, b]:\n",
    "            dp[curr,b] = cost + x\n",
    "            prb[curr, b] = i\n",
    "#         dp[curr,b] = min(dp[curr,b], cost + solve(curr+1, b+i))\n",
    "    return dp[curr,b]"
   ]
  },
  {
   "cell_type": "code",
   "execution_count": 74,
   "metadata": {
    "collapsed": false
   },
   "outputs": [
    {
     "name": "stdout",
     "output_type": "stream",
     "text": [
      "299618.245472\n"
     ]
    }
   ],
   "source": [
    "import sys\n",
    "sys.setrecursionlimit(2000)\n",
    "ans = solv2e(0,0)\n",
    "print(ans)"
   ]
  },
  {
   "cell_type": "code",
   "execution_count": 75,
   "metadata": {
    "collapsed": false
   },
   "outputs": [
    {
     "data": {
      "image/png": "[encoded data removed]",
      "text/plain": [
       "<matplotlib.figure.Figure at 0x7f6e6c2420b8>"
      ]
     },
     "metadata": {},
     "output_type": "display_data"
    },
    {
     "data": {
      "image/png": "[encoded data removed]",
      "text/plain": [
       "<matplotlib.figure.Figure at 0x7f6e6c4ad908>"
      ]
     },
     "metadata": {},
     "output_type": "display_data"
    },
    {
     "data": {
      "image/png": "[encoded data removed]",
      "text/plain": [
       "<matplotlib.figure.Figure at 0x7f6e6c0e8fd0>"
      ]
     },
     "metadata": {},
     "output_type": "display_data"
    }
   ],
   "source": [
    "da = []\n",
    "bat = 0\n",
    "for i in range(1200):\n",
    "    da.append(prb[i,bat])\n",
    "    bat += int(prb[i,bat])\n",
    "plt.plot(np.array(da[:50]))\n",
    "plt.show()\n",
    "plt.plot(d[0][:50])\n",
    "plt.show()\n",
    "plt.plot(d[1][:50])\n",
    "plt.show()"
   ]
  },
  {
   "cell_type": "code",
   "execution_count": 76,
   "metadata": {
    "collapsed": false
   },
   "outputs": [
    {
     "name": "stdout",
     "output_type": "stream",
     "text": [
      "302099.896658\n"
     ]
    }
   ],
   "source": [
    "z = 0\n",
    "for i in range(1200):\n",
    "    z += r[i]*p[i]\n",
    "print(z)"
   ]
  },
  {
   "cell_type": "code",
   "execution_count": null,
   "metadata": {
    "collapsed": true
   },
   "outputs": [],
   "source": []
  },
  {
   "cell_type": "code",
   "execution_count": 77,
   "metadata": {
    "collapsed": false
   },
   "outputs": [],
   "source": [
    "for i in range(50):\n",
    "    z = 0.\n",
    "    for j in range(24):\n",
    "        need = df_p[0][i*24+j]- df_p[2][i*24+j] \n",
    "        need += da[i*24+j]\n",
    "#     for j in range(24):\n",
    "#         need = df_p[0][i*24+j]- df_p[2][i*24+j] \n",
    "#         z = z + need * df_p[1][i*24+j]\n",
    "#     z = z/24.\n",
    "#     for j in range(24):\n",
    "#         need = df_p[0][i*24+j]- df_p[2][i*24+j]\n",
    "#         if need * df_p[1][i*24+j] > z:\n",
    "#             need = need - 4\n",
    "#         else:\n",
    "#             need = need + 5\n",
    "        d[0][i*24+j] = need"
   ]
  },
  {
   "cell_type": "code",
   "execution_count": null,
   "metadata": {
    "collapsed": true
   },
   "outputs": [],
   "source": []
  },
  {
   "cell_type": "code",
   "execution_count": 78,
   "metadata": {
    "collapsed": true
   },
   "outputs": [],
   "source": [
    "p = pd.DataFrame()\n",
    "p[0] = d[1]\n",
    "p[1] = d[0]  +1 #+1 #-1 \n",
    "p[0].loc[p[0]>=7]=7\n",
    "p.reset_index()\n",
    "p.to_csv('9.csv',index=False,header=None)"
   ]
  },
  {
   "cell_type": "code",
   "execution_count": 79,
   "metadata": {
    "collapsed": false
   },
   "outputs": [],
   "source": [
    "# p.describe()"
   ]
  },
  {
   "cell_type": "code",
   "execution_count": null,
   "metadata": {
    "collapsed": true
   },
   "outputs": [],
   "source": []
  }
 ],
 "metadata": {
  "anaconda-cloud": {},
  "kernelspec": {
   "display_name": "Python [conda root]",
   "language": "python",
   "name": "conda-root-py"
  },
  "language_info": {
   "codemirror_mode": {
    "name": "ipython",
    "version": 3
   },
   "file_extension": ".py",
   "mimetype": "text/x-python",
   "name": "python",
   "nbconvert_exporter": "python",
   "pygments_lexer": "ipython3",
   "version": "3.5.4"
  }
 },
 "nbformat": 4,
 "nbformat_minor": 2
}
