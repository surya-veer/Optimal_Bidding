{
 "cells": [
  {
   "cell_type": "markdown",
   "metadata": {},
   "source": [
    "# Optimal Bidding\n",
    "Statistical analysis of dataset and training model."
   ]
  },
  {
   "cell_type": "code",
   "execution_count": 1,
   "metadata": {},
   "outputs": [],
   "source": [
    "import numpy as np\n",
    "import pandas as pd\n",
    "import matplotlib.pyplot as plt\n",
    "from matplotlib import style\n",
    "style.use('ggplot')"
   ]
  },
  {
   "cell_type": "code",
   "execution_count": 2,
   "metadata": {},
   "outputs": [],
   "source": [
    "def data_frame(string):\n",
    "    df = pd.read_csv(string,names=[i for i in range(1,25)])\n",
    "    lis = [i for i in range(len(df)+1)]\n",
    "    df[0] =  pd.DataFrame({'col':lis})\n",
    "    df.set_index(0)\n",
    "    # print(df[2][4])\n",
    "    #(df.head())\n",
    "    l = []\n",
    "    for i in range(len(df)):\n",
    "        for x in range(1,25):\n",
    "            l.insert(-1,df[x][i])\n",
    "    df_new = pd.DataFrame()\n",
    "    df_new['d_train'] = pd.DataFrame({'d_train':l})\n",
    "#     print(df_new['d_train'].head())\n",
    "    return df_new['d_train']"
   ]
  },
  {
   "cell_type": "code",
   "execution_count": 3,
   "metadata": {},
   "outputs": [],
   "source": [
    "df_x = pd.DataFrame()\n",
    "df_y = pd.DataFrame()\n",
    "\n",
    "df_x['d_train'] = data_frame('Demand_Train.csv')\n",
    "df_y['d_pred'] = data_frame('Demand_Train_pred.csv')\n",
    "\n",
    "df_x['p_train'] = data_frame('Price_Train.csv')\n",
    "df_y['p_pred'] = data_frame('Price_Train_pred.csv')\n",
    "\n",
    "df_x['s_train'] = data_frame('Solar_Train.csv')\n",
    "df_y['s_pred'] = data_frame('Solar_Train_pred.csv')\n",
    "# df_new['PCT_change'] = (df[d_train])"
   ]
  },
  {
   "cell_type": "code",
   "execution_count": 4,
   "metadata": {},
   "outputs": [],
   "source": [
    "df_x.fillna(-9999999,inplace=True)\n",
    "df_y.fillna(-9999999,inplace=True)"
   ]
  },
  {
   "cell_type": "code",
   "execution_count": 5,
   "metadata": {},
   "outputs": [
    {
     "name": "stdout",
     "output_type": "stream",
     "text": [
      "(   d_train  p_train  s_train\n",
      "0   151.40     1.60      0.0\n",
      "1   154.94     1.40      0.0\n",
      "2   152.50     1.37      0.0\n",
      "3   148.54     1.36      0.0\n",
      "4   148.57     2.80      0.0,    d_pred  p_pred  s_pred\n",
      "0  132.99    1.56     0.0\n",
      "1  160.67    1.31     0.0\n",
      "2  154.47    1.50     0.0\n",
      "3  126.27    1.33     0.0\n",
      "4  158.16    2.92     0.0)\n"
     ]
    }
   ],
   "source": [
    "print(df_x.head(),df_y.head())"
   ]
  },
  {
   "cell_type": "code",
   "execution_count": 6,
   "metadata": {},
   "outputs": [],
   "source": [
    "# print(df_x.head())\n",
    "# # fig = plt.figure()\n",
    "# # ax1 = plt.subplot2grid((1,1),(0,0))\n",
    "# # ax2 = plt.subplot2grid((1,1),(1,1))\n",
    "# x = (df_x['d_train']-df_x['s_train']) - (df_y['d_pred']-df_y['s_pred'])\n",
    "# x.plot()\n",
    "# # df_new['d_train'].plot(ax = ax2,label='Time')\n",
    "\n",
    "# plt.legend()\n",
    "# plt.show()"
   ]
  },
  {
   "cell_type": "code",
   "execution_count": 2,
   "metadata": {},
   "outputs": [],
   "source": [
    "from sklearn import cross_validation, preprocessing, svm\n",
    "from sklearn.linear_model import LinearRegression\n",
    "from sklearn.ensemble import RandomForestClassifier"
   ]
  },
  {
   "cell_type": "code",
   "execution_count": 8,
   "metadata": {},
   "outputs": [
    {
     "name": "stdout",
     "output_type": "stream",
     "text": [
      "(array([[ 1.31121183, -1.09962368, -0.77802507],\n",
      "       [ 1.37310074, -1.26789807, -0.77802507],\n",
      "       [ 1.33044285, -1.29313923, -0.77802507],\n",
      "       [ 1.26121119, -1.30155295, -0.77802507],\n",
      "       [ 1.26173567, -0.08997733, -0.77802507]]), array([[ 132.99,    1.56,    0.  ],\n",
      "       [ 160.67,    1.31,    0.  ],\n",
      "       [ 154.47,    1.5 ,    0.  ],\n",
      "       [ 126.27,    1.33,    0.  ],\n",
      "       [ 158.16,    2.92,    0.  ]]))\n"
     ]
    }
   ],
   "source": [
    "X = np.array(df_x)\n",
    "X = preprocessing.scale(X)\n",
    "y = np.array(df_y).astype('float')\n",
    "print(X[:5],y[:5])\n",
    "X_train, X_test, y_train, y_test = cross_validation.train_test_split(X,y,test_size=.02)"
   ]
  },
  {
   "cell_type": "code",
   "execution_count": 9,
   "metadata": {},
   "outputs": [
    {
     "data": {
      "text/plain": [
       "LinearRegression(copy_X=True, fit_intercept=True, n_jobs=1, normalize=False)"
      ]
     },
     "execution_count": 9,
     "metadata": {},
     "output_type": "execute_result"
    }
   ],
   "source": [
    "clf = LinearRegression()\n",
    "# clf = RandomForestClassifier()\n",
    "clf.fit(X_train,y_train)"
   ]
  },
  {
   "cell_type": "code",
   "execution_count": 10,
   "metadata": {},
   "outputs": [
    {
     "data": {
      "text/plain": [
       "0.98010230774102736"
      ]
     },
     "execution_count": 10,
     "metadata": {},
     "output_type": "execute_result"
    }
   ],
   "source": [
    "clf.score(X_train,y_train)"
   ]
  },
  {
   "cell_type": "code",
   "execution_count": 11,
   "metadata": {},
   "outputs": [],
   "source": [
    "df_test = pd.DataFrame()\n",
    "df_test['d'] = data_frame('Demand_LB_pred.csv')\n",
    "df_test['p'] = data_frame('Price_LB_pred.csv')\n",
    "df_test['s'] = data_frame('Solar_LB_pred.csv')"
   ]
  },
  {
   "cell_type": "code",
   "execution_count": 12,
   "metadata": {},
   "outputs": [
    {
     "name": "stdout",
     "output_type": "stream",
     "text": [
      "       d     p    s\n",
      "0  29.86  1.79  0.0\n",
      "1  25.67  1.81  0.0\n",
      "2  68.61  1.63  0.0\n",
      "3  19.16  1.88  0.0\n",
      "4  21.07  1.90  0.0\n"
     ]
    }
   ],
   "source": [
    "print(df_test.head())"
   ]
  },
  {
   "cell_type": "code",
   "execution_count": 13,
   "metadata": {},
   "outputs": [],
   "source": [
    "df_out = pd.DataFrame()\n",
    "df_out = clf.predict(preprocessing.scale(df_test))"
   ]
  },
  {
   "cell_type": "code",
   "execution_count": 14,
   "metadata": {},
   "outputs": [
    {
     "name": "stdout",
     "output_type": "stream",
     "text": [
      "[[ 27.06075161   1.7912787    0.4463511 ]\n",
      " [ 22.35714427   1.81070136   0.44576045]\n",
      " [ 70.56070649   1.63589068   0.45172414]\n",
      " [ 15.04916286   1.87867009   0.44470341]\n",
      " [ 17.19329678   1.89808484   0.44486842]]\n"
     ]
    }
   ],
   "source": [
    "print(df_out[:5])"
   ]
  },
  {
   "cell_type": "code",
   "execution_count": 15,
   "metadata": {},
   "outputs": [
    {
     "data": {
      "text/html": [
       "<div>\n",
       "<style scoped>\n",
       "    .dataframe tbody tr th:only-of-type {\n",
       "        vertical-align: middle;\n",
       "    }\n",
       "\n",
       "    .dataframe tbody tr th {\n",
       "        vertical-align: top;\n",
       "    }\n",
       "\n",
       "    .dataframe thead th {\n",
       "        text-align: right;\n",
       "    }\n",
       "</style>\n",
       "<table border=\"1\" class=\"dataframe\">\n",
       "  <thead>\n",
       "    <tr style=\"text-align: right;\">\n",
       "      <th></th>\n",
       "      <th>0</th>\n",
       "      <th>1</th>\n",
       "      <th>2</th>\n",
       "    </tr>\n",
       "  </thead>\n",
       "  <tbody>\n",
       "    <tr>\n",
       "      <th>0</th>\n",
       "      <td>27.060752</td>\n",
       "      <td>1.791279</td>\n",
       "      <td>0.446351</td>\n",
       "    </tr>\n",
       "    <tr>\n",
       "      <th>1</th>\n",
       "      <td>22.357144</td>\n",
       "      <td>1.810701</td>\n",
       "      <td>0.445760</td>\n",
       "    </tr>\n",
       "    <tr>\n",
       "      <th>2</th>\n",
       "      <td>70.560706</td>\n",
       "      <td>1.635891</td>\n",
       "      <td>0.451724</td>\n",
       "    </tr>\n",
       "    <tr>\n",
       "      <th>3</th>\n",
       "      <td>15.049163</td>\n",
       "      <td>1.878670</td>\n",
       "      <td>0.444703</td>\n",
       "    </tr>\n",
       "    <tr>\n",
       "      <th>4</th>\n",
       "      <td>17.193297</td>\n",
       "      <td>1.898085</td>\n",
       "      <td>0.444868</td>\n",
       "    </tr>\n",
       "  </tbody>\n",
       "</table>\n",
       "</div>"
      ],
      "text/plain": [
       "           0         1         2\n",
       "0  27.060752  1.791279  0.446351\n",
       "1  22.357144  1.810701  0.445760\n",
       "2  70.560706  1.635891  0.451724\n",
       "3  15.049163  1.878670  0.444703\n",
       "4  17.193297  1.898085  0.444868"
      ]
     },
     "execution_count": 15,
     "metadata": {},
     "output_type": "execute_result"
    }
   ],
   "source": [
    "df_p = pd.DataFrame(df_out)\n",
    "df_p.head()"
   ]
  },
  {
   "cell_type": "code",
   "execution_count": 16,
   "metadata": {},
   "outputs": [
    {
     "data": {
      "text/html": [
       "<div>\n",
       "<style scoped>\n",
       "    .dataframe tbody tr th:only-of-type {\n",
       "        vertical-align: middle;\n",
       "    }\n",
       "\n",
       "    .dataframe tbody tr th {\n",
       "        vertical-align: top;\n",
       "    }\n",
       "\n",
       "    .dataframe thead th {\n",
       "        text-align: right;\n",
       "    }\n",
       "</style>\n",
       "<table border=\"1\" class=\"dataframe\">\n",
       "  <thead>\n",
       "    <tr style=\"text-align: right;\">\n",
       "      <th></th>\n",
       "      <th>0</th>\n",
       "      <th>1</th>\n",
       "      <th>2</th>\n",
       "    </tr>\n",
       "  </thead>\n",
       "  <tbody>\n",
       "    <tr>\n",
       "      <th>count</th>\n",
       "      <td>1200.000000</td>\n",
       "      <td>1200.000000</td>\n",
       "      <td>1200.000000</td>\n",
       "    </tr>\n",
       "    <tr>\n",
       "      <th>mean</th>\n",
       "      <td>76.396514</td>\n",
       "      <td>2.907314</td>\n",
       "      <td>6.863732</td>\n",
       "    </tr>\n",
       "    <tr>\n",
       "      <th>std</th>\n",
       "      <td>57.244774</td>\n",
       "      <td>1.184607</td>\n",
       "      <td>8.831745</td>\n",
       "    </tr>\n",
       "    <tr>\n",
       "      <th>min</th>\n",
       "      <td>10.053575</td>\n",
       "      <td>0.470922</td>\n",
       "      <td>0.435623</td>\n",
       "    </tr>\n",
       "    <tr>\n",
       "      <th>25%</th>\n",
       "      <td>25.402588</td>\n",
       "      <td>2.024273</td>\n",
       "      <td>0.447325</td>\n",
       "    </tr>\n",
       "    <tr>\n",
       "      <th>50%</th>\n",
       "      <td>64.105374</td>\n",
       "      <td>2.757987</td>\n",
       "      <td>0.461368</td>\n",
       "    </tr>\n",
       "    <tr>\n",
       "      <th>75%</th>\n",
       "      <td>110.720905</td>\n",
       "      <td>3.598076</td>\n",
       "      <td>13.427550</td>\n",
       "    </tr>\n",
       "    <tr>\n",
       "      <th>max</th>\n",
       "      <td>324.791809</td>\n",
       "      <td>8.093687</td>\n",
       "      <td>31.093252</td>\n",
       "    </tr>\n",
       "  </tbody>\n",
       "</table>\n",
       "</div>"
      ],
      "text/plain": [
       "                 0            1            2\n",
       "count  1200.000000  1200.000000  1200.000000\n",
       "mean     76.396514     2.907314     6.863732\n",
       "std      57.244774     1.184607     8.831745\n",
       "min      10.053575     0.470922     0.435623\n",
       "25%      25.402588     2.024273     0.447325\n",
       "50%      64.105374     2.757987     0.461368\n",
       "75%     110.720905     3.598076    13.427550\n",
       "max     324.791809     8.093687    31.093252"
      ]
     },
     "execution_count": 16,
     "metadata": {},
     "output_type": "execute_result"
    }
   ],
   "source": [
    "df_p.describe()"
   ]
  },
  {
   "cell_type": "code",
   "execution_count": 17,
   "metadata": {},
   "outputs": [
    {
     "data": {
      "text/plain": [
       "0.050833333333333335"
      ]
     },
     "execution_count": 17,
     "metadata": {},
     "output_type": "execute_result"
    }
   ],
   "source": [
    "from sklearn.metrics import accuracy_score\n",
    "accuracy_score(df_test['d'].astype('int'),df_p[0].astype('int'))"
   ]
  },
  {
   "cell_type": "code",
   "execution_count": 33,
   "metadata": {},
   "outputs": [],
   "source": [
    "d = pd.DataFrame()\n",
    "d[1] = df_p[0] - df_p[2]\n",
    "d[0] = df_p[1] + 0.2"
   ]
  },
  {
   "cell_type": "code",
   "execution_count": 34,
   "metadata": {},
   "outputs": [],
   "source": [
    "for i in range(50):\n",
    "    z = 0.\n",
    "    for j in range(24):\n",
    "        need = df_p[0][i*24+j]- df_p[2][i*24+j] \n",
    "        z = z + need * df_p[1][i*24+j]\n",
    "    z = z/24.\n",
    "    for j in range(24):\n",
    "        need = df_p[0][i*24+j]- df_p[2][i*24+j]\n",
    "        if need * df_p[1][i*24+j] > z:\n",
    "            need = need - 4\n",
    "        else:\n",
    "            need = need + 5\n",
    "        d[0][i*24+j] = need"
   ]
  },
  {
   "cell_type": "code",
   "execution_count": 35,
   "metadata": {},
   "outputs": [],
   "source": [
    "d[1] = d[1].astype('int')"
   ]
  },
  {
   "cell_type": "code",
   "execution_count": 36,
   "metadata": {},
   "outputs": [
    {
     "data": {
      "text/plain": [
       "0        26\n",
       "1        21\n",
       "2        70\n",
       "3        14\n",
       "4        16\n",
       "5        46\n",
       "6       140\n",
       "7        71\n",
       "8         2\n",
       "9        -4\n",
       "10       72\n",
       "11      129\n",
       "12       77\n",
       "13       86\n",
       "14       52\n",
       "15       92\n",
       "16       14\n",
       "17       34\n",
       "18       78\n",
       "19       51\n",
       "20      157\n",
       "21       32\n",
       "22       54\n",
       "23       15\n",
       "24       56\n",
       "25       13\n",
       "26       55\n",
       "27       19\n",
       "28       24\n",
       "29       45\n",
       "       ... \n",
       "1170    108\n",
       "1171    171\n",
       "1172    113\n",
       "1173     23\n",
       "1174     19\n",
       "1175     15\n",
       "1176     10\n",
       "1177     12\n",
       "1178     12\n",
       "1179     17\n",
       "1180     59\n",
       "1181     61\n",
       "1182    179\n",
       "1183     92\n",
       "1184     64\n",
       "1185     16\n",
       "1186     49\n",
       "1187      4\n",
       "1188     -8\n",
       "1189     -4\n",
       "1190      4\n",
       "1191     21\n",
       "1192     98\n",
       "1193    130\n",
       "1194    156\n",
       "1195    103\n",
       "1196     88\n",
       "1197     80\n",
       "1198     62\n",
       "1199     28\n",
       "Name: 1, Length: 1200, dtype: int64"
      ]
     },
     "execution_count": 36,
     "metadata": {},
     "output_type": "execute_result"
    }
   ],
   "source": [
    "d[1]"
   ]
  },
  {
   "cell_type": "code",
   "execution_count": 37,
   "metadata": {},
   "outputs": [],
   "source": [
    "d.reset_index()\n",
    "d.to_csv('23.csv',index=False,header=None)"
   ]
  },
  {
   "cell_type": "code",
   "execution_count": null,
   "metadata": {},
   "outputs": [],
   "source": []
  },
  {
   "cell_type": "code",
   "execution_count": null,
   "metadata": {},
   "outputs": [],
   "source": []
  }
 ],
 "metadata": {
  "kernelspec": {
   "display_name": "Python 2",
   "language": "python",
   "name": "python2"
  },
  "language_info": {
   "codemirror_mode": {
    "name": "ipython",
    "version": 2
   },
   "file_extension": ".py",
   "mimetype": "text/x-python",
   "name": "python",
   "nbconvert_exporter": "python",
   "pygments_lexer": "ipython2",
   "version": "2.7.12"
  }
 },
 "nbformat": 4,
 "nbformat_minor": 2
}
